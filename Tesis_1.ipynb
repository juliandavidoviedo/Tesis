{
  "nbformat": 4,
  "nbformat_minor": 0,
  "metadata": {
    "colab": {
      "name": "Tesis_1.ipynb",
      "provenance": [],
      "collapsed_sections": [],
      "include_colab_link": true
    },
    "kernelspec": {
      "name": "python3",
      "display_name": "Python 3"
    },
    "language_info": {
      "name": "python"
    }
  },
  "cells": [
    {
      "cell_type": "markdown",
      "metadata": {
        "id": "view-in-github",
        "colab_type": "text"
      },
      "source": [
        "<a href=\"https://colab.research.google.com/github/juliandavidoviedo/Tesis/blob/main/Tesis_1.ipynb\" target=\"_parent\"><img src=\"https://colab.research.google.com/assets/colab-badge.svg\" alt=\"Open In Colab\"/></a>"
      ]
    },
    {
      "cell_type": "code",
      "execution_count": 57,
      "metadata": {
        "id": "-AUv3PnUIKM-"
      },
      "outputs": [],
      "source": [
        "# Importación de Librerias \n",
        "import pandas as pd \n",
        "import numpy as np\n",
        "import scipy as sp\n",
        "from scipy.signal import savgol_filter\n"
      ]
    },
    {
      "cell_type": "code",
      "source": [
        "data = pd.read_csv('NIRSdata.csv',  encoding= 'unicode_escape',sep=',') \n",
        "print(data)\n",
        "print(data.dtypes)\n",
        "#print(data.sort_values(by=[Unidad],ascending=[False]))\n",
        "#y = data['pH'].values.astype(float)\n",
        "#data = data.drop(columns=['pH'])\n",
        "#data[\"Cultivo\"].str.split('[.@]', expand=True)\n",
        "#data[\"Profundidad\"].str.split('[.@]', expand=True)"
      ],
      "metadata": {
        "id": "k4A_CMPVLeJx"
      },
      "execution_count": null,
      "outputs": []
    },
    {
      "cell_type": "code",
      "source": [
        "# Eliminación de Columnas Inútiles\n",
        "df= pd.DataFrame(data)\n",
        "de= df.drop(df.loc[:,'CODIGO DE LA MUESTRA':'OBSERVACIONES'].columns, axis = 1)\n",
        "de.head()"
      ],
      "metadata": {
        "id": "VypLaCurgMP0"
      },
      "execution_count": null,
      "outputs": []
    },
    {
      "cell_type": "code",
      "source": [
        "#**Conjunto de Entrenamiento**\n",
        "dtr=de.drop(de.loc[:,'400':'2491'].columns, axis = 1)\n",
        "dtr.head()"
      ],
      "metadata": {
        "id": "gkl2SZJCrDc2"
      },
      "execution_count": null,
      "outputs": []
    },
    {
      "cell_type": "code",
      "source": [
        "#**Conjunto de Evaluación**\n",
        "deval=de.loc[:,'400':'2491']\n",
        "deval.head()"
      ],
      "metadata": {
        "id": "2FQUpi1sreEz"
      },
      "execution_count": null,
      "outputs": []
    },
    {
      "cell_type": "code",
      "source": [
        "data.dropna(axis='columns', how='all')"
      ],
      "metadata": {
        "id": "haH7sfkOs9vV"
      },
      "execution_count": null,
      "outputs": []
    },
    {
      "cell_type": "code",
      "source": [
        "dtrain=pd.DataFrame(dtr)\n",
        "dtrain.head()"
      ],
      "metadata": {
        "id": "3V4IorZlu7a8"
      },
      "execution_count": null,
      "outputs": []
    },
    {
      "cell_type": "code",
      "source": [
        "#dtrainl= dtrain.dropna(axis='columns')\n",
        "#dtrainl\n",
        "dtrainl= dtrain.dropna(subset=[\"Clase textural\"])\n",
        "dtrainl.head()\n",
        "#print(\"DataFrame after removing rows with NaN value in any column:\")\n",
        "#print(dtrainl)\n"
      ],
      "metadata": {
        "id": "CjkBxyydtJdT"
      },
      "execution_count": null,
      "outputs": []
    },
    {
      "cell_type": "code",
      "source": [
        "dtrainll= dtrain.dropna(subset=[\"pH\"])\n",
        "dtrainll.head(-1)"
      ],
      "metadata": {
        "id": "1BfdPvT_xhYK"
      },
      "execution_count": null,
      "outputs": []
    },
    {
      "cell_type": "code",
      "source": [
        "dtrainl1= dtrain.dropna(subset=[\"Boro (B) disponible\"])\n",
        "dtrainl1.head(-1)"
      ],
      "metadata": {
        "id": "0XuC0D3yz2Sg"
      },
      "execution_count": null,
      "outputs": []
    },
    {
      "cell_type": "code",
      "source": [
        "training = dtrain.to_csv('train.csv', encoding= 'utf-8')"
      ],
      "metadata": {
        "id": "EC91Mow136e8"
      },
      "execution_count": 45,
      "outputs": []
    },
    {
      "cell_type": "code",
      "source": [
        "evaluating = deval.to_csv('eval.csv', encoding= 'utf-8')"
      ],
      "metadata": {
        "id": "1THDxiCm4dAT"
      },
      "execution_count": 46,
      "outputs": []
    },
    {
      "cell_type": "code",
      "source": [
        "dictionary={'<':'','>':''}\n",
        "dff=dtrain.replace(dictionary,regex=True, inplace=True)\n",
        "dftrain= pd.DataFrame(dff)\n",
        "dftrain.head()"
      ],
      "metadata": {
        "colab": {
          "base_uri": "https://localhost:8080/",
          "height": 49
        },
        "id": "K4bVbxuw9LGd",
        "outputId": "cce14466-58fd-4376-d70b-c09be8b4b213"
      },
      "execution_count": 47,
      "outputs": [
        {
          "output_type": "execute_result",
          "data": {
            "text/plain": [
              "Empty DataFrame\n",
              "Columns: []\n",
              "Index: []"
            ],
            "text/html": [
              "\n",
              "  <div id=\"df-00ec860b-6050-4468-b26c-b3b68beb5c5d\">\n",
              "    <div class=\"colab-df-container\">\n",
              "      <div>\n",
              "<style scoped>\n",
              "    .dataframe tbody tr th:only-of-type {\n",
              "        vertical-align: middle;\n",
              "    }\n",
              "\n",
              "    .dataframe tbody tr th {\n",
              "        vertical-align: top;\n",
              "    }\n",
              "\n",
              "    .dataframe thead th {\n",
              "        text-align: right;\n",
              "    }\n",
              "</style>\n",
              "<table border=\"1\" class=\"dataframe\">\n",
              "  <thead>\n",
              "    <tr style=\"text-align: right;\">\n",
              "      <th></th>\n",
              "    </tr>\n",
              "  </thead>\n",
              "  <tbody>\n",
              "  </tbody>\n",
              "</table>\n",
              "</div>\n",
              "      <button class=\"colab-df-convert\" onclick=\"convertToInteractive('df-00ec860b-6050-4468-b26c-b3b68beb5c5d')\"\n",
              "              title=\"Convert this dataframe to an interactive table.\"\n",
              "              style=\"display:none;\">\n",
              "        \n",
              "  <svg xmlns=\"http://www.w3.org/2000/svg\" height=\"24px\"viewBox=\"0 0 24 24\"\n",
              "       width=\"24px\">\n",
              "    <path d=\"M0 0h24v24H0V0z\" fill=\"none\"/>\n",
              "    <path d=\"M18.56 5.44l.94 2.06.94-2.06 2.06-.94-2.06-.94-.94-2.06-.94 2.06-2.06.94zm-11 1L8.5 8.5l.94-2.06 2.06-.94-2.06-.94L8.5 2.5l-.94 2.06-2.06.94zm10 10l.94 2.06.94-2.06 2.06-.94-2.06-.94-.94-2.06-.94 2.06-2.06.94z\"/><path d=\"M17.41 7.96l-1.37-1.37c-.4-.4-.92-.59-1.43-.59-.52 0-1.04.2-1.43.59L10.3 9.45l-7.72 7.72c-.78.78-.78 2.05 0 2.83L4 21.41c.39.39.9.59 1.41.59.51 0 1.02-.2 1.41-.59l7.78-7.78 2.81-2.81c.8-.78.8-2.07 0-2.86zM5.41 20L4 18.59l7.72-7.72 1.47 1.35L5.41 20z\"/>\n",
              "  </svg>\n",
              "      </button>\n",
              "      \n",
              "  <style>\n",
              "    .colab-df-container {\n",
              "      display:flex;\n",
              "      flex-wrap:wrap;\n",
              "      gap: 12px;\n",
              "    }\n",
              "\n",
              "    .colab-df-convert {\n",
              "      background-color: #E8F0FE;\n",
              "      border: none;\n",
              "      border-radius: 50%;\n",
              "      cursor: pointer;\n",
              "      display: none;\n",
              "      fill: #1967D2;\n",
              "      height: 32px;\n",
              "      padding: 0 0 0 0;\n",
              "      width: 32px;\n",
              "    }\n",
              "\n",
              "    .colab-df-convert:hover {\n",
              "      background-color: #E2EBFA;\n",
              "      box-shadow: 0px 1px 2px rgba(60, 64, 67, 0.3), 0px 1px 3px 1px rgba(60, 64, 67, 0.15);\n",
              "      fill: #174EA6;\n",
              "    }\n",
              "\n",
              "    [theme=dark] .colab-df-convert {\n",
              "      background-color: #3B4455;\n",
              "      fill: #D2E3FC;\n",
              "    }\n",
              "\n",
              "    [theme=dark] .colab-df-convert:hover {\n",
              "      background-color: #434B5C;\n",
              "      box-shadow: 0px 1px 3px 1px rgba(0, 0, 0, 0.15);\n",
              "      filter: drop-shadow(0px 1px 2px rgba(0, 0, 0, 0.3));\n",
              "      fill: #FFFFFF;\n",
              "    }\n",
              "  </style>\n",
              "\n",
              "      <script>\n",
              "        const buttonEl =\n",
              "          document.querySelector('#df-00ec860b-6050-4468-b26c-b3b68beb5c5d button.colab-df-convert');\n",
              "        buttonEl.style.display =\n",
              "          google.colab.kernel.accessAllowed ? 'block' : 'none';\n",
              "\n",
              "        async function convertToInteractive(key) {\n",
              "          const element = document.querySelector('#df-00ec860b-6050-4468-b26c-b3b68beb5c5d');\n",
              "          const dataTable =\n",
              "            await google.colab.kernel.invokeFunction('convertToInteractive',\n",
              "                                                     [key], {});\n",
              "          if (!dataTable) return;\n",
              "\n",
              "          const docLinkHtml = 'Like what you see? Visit the ' +\n",
              "            '<a target=\"_blank\" href=https://colab.research.google.com/notebooks/data_table.ipynb>data table notebook</a>'\n",
              "            + ' to learn more about interactive tables.';\n",
              "          element.innerHTML = '';\n",
              "          dataTable['output_type'] = 'display_data';\n",
              "          await google.colab.output.renderOutput(dataTable, element);\n",
              "          const docLink = document.createElement('div');\n",
              "          docLink.innerHTML = docLinkHtml;\n",
              "          element.appendChild(docLink);\n",
              "        }\n",
              "      </script>\n",
              "    </div>\n",
              "  </div>\n",
              "  "
            ]
          },
          "metadata": {},
          "execution_count": 47
        }
      ]
    },
    {
      "cell_type": "code",
      "source": [
        "dtrain.drop(['Porcentaje de limo (% L)'], axis=1)"
      ],
      "metadata": {
        "id": "rw2bhXS840GL"
      },
      "execution_count": null,
      "outputs": []
    },
    {
      "cell_type": "code",
      "source": [
        "#deval[203:]\n",
        "#Posiciones a filtrar, Valores Nulos\n",
        "deval.loc[203:245]"
      ],
      "metadata": {
        "id": "_gh_YQ1XBXOt"
      },
      "execution_count": null,
      "outputs": []
    },
    {
      "cell_type": "code",
      "source": [
        "# Borrar filas de conjunto de entrenamiento con valores NaN\n",
        "deval=deval.dropna(how='all')\n",
        "deval.head(247)"
      ],
      "metadata": {
        "id": "yOP4vZxtwNVY"
      },
      "execution_count": null,
      "outputs": []
    },
    {
      "cell_type": "code",
      "source": [
        "deval.loc[203:245] # Verificación"
      ],
      "metadata": {
        "id": "dwahtrDWwRdA"
      },
      "execution_count": null,
      "outputs": []
    },
    {
      "cell_type": "code",
      "source": [
        "# Métodos para eliminar carácteres <,> y estén vacios, del conjunto de datos \n",
        "filtro= deval['400'] != ''\n",
        "filtrado= deval[filtro]\n",
        "filtrado.head(245)"
      ],
      "metadata": {
        "id": "sVP8wQVYVbaL"
      },
      "execution_count": null,
      "outputs": []
    },
    {
      "cell_type": "code",
      "source": [
        "# remove rows using the drop() function\n",
        "devalf=deval.drop(deval.index[deval['400'] == ''], inplace=True)\n",
        "evaluation= pd.DataFrame(devalf)\n",
        "evaluation.head()\n",
        "# display the dataframe\n"
      ],
      "metadata": {
        "id": "g5Ym1uD2D2D7"
      },
      "execution_count": null,
      "outputs": []
    },
    {
      "cell_type": "code",
      "source": [
        "#print(deval.index[deval['400'] == ''])\n",
        "#deval['400']\n",
        "# remove rows by filtering\n",
        "deval = deval[deval['400'] != '']\n",
        "deval = deval[deval['400'] != 'NaN']\n",
        "deval.head()\n",
        "# display the dataframe\n",
        "#print(devalt[243:400])\n"
      ],
      "metadata": {
        "id": "0HGx5IQeHEpu"
      },
      "execution_count": null,
      "outputs": []
    },
    {
      "cell_type": "code",
      "source": [
        "dtrain.head(-5)"
      ],
      "metadata": {
        "id": "mWiitYT7zDkO"
      },
      "execution_count": null,
      "outputs": []
    },
    {
      "cell_type": "code",
      "source": [
        "dtrain=dtrain.drop(dtrain.loc[:,'% humedad gravimetrica':'Sample Identification String One'].columns, axis = 1)\n",
        "\n",
        "trainlimpio = dtrain.to_csv('trainlimpio.csv', encoding= 'utf-8')\n"
      ],
      "metadata": {
        "id": "jgPSNTkaFfoQ"
      },
      "execution_count": 61,
      "outputs": []
    },
    {
      "cell_type": "code",
      "source": [
        "dtrain.head()\n"
      ],
      "metadata": {
        "id": "ncgHEDKPzvus"
      },
      "execution_count": null,
      "outputs": []
    }
  ]
}